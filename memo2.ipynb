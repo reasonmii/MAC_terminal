{
 "cells": [
  {
   "cell_type": "markdown",
   "id": "781e9594",
   "metadata": {},
   "source": [
    "한 번 만든 가상환경 삭제"
   ]
  },
  {
   "cell_type": "code",
   "execution_count": 7,
   "id": "ee6b05ca",
   "metadata": {},
   "outputs": [
    {
     "name": "stdout",
     "output_type": "stream",
     "text": [
      "\n",
      "Remove all packages in environment /opt/anaconda3/envs/yuna2:\n",
      "\n",
      "\n",
      "Note: you may need to restart the kernel to use updated packages.\n"
     ]
    }
   ],
   "source": [
    "conda env remove -n yuna2"
   ]
  },
  {
   "cell_type": "code",
   "execution_count": 8,
   "id": "b9a33c35",
   "metadata": {},
   "outputs": [
    {
     "name": "stdout",
     "output_type": "stream",
     "text": [
      "\n",
      "CommandNotFoundError: Your shell has not been properly configured to use 'conda activate'.\n",
      "To initialize your shell, run\n",
      "\n",
      "    $ conda init <SHELL_NAME>\n",
      "\n",
      "Currently supported shells are:\n",
      "  - bash\n",
      "  - fish\n",
      "  - tcsh\n",
      "  - xonsh\n",
      "  - zsh\n",
      "  - powershell\n",
      "\n",
      "See 'conda init --help' for more information and options.\n",
      "\n",
      "IMPORTANT: You may need to close and restart your shell after running 'conda init'.\n",
      "\n",
      "\n",
      "\n",
      "Note: you may need to restart the kernel to use updated packages.\n"
     ]
    }
   ],
   "source": [
    "conda activate yuna2"
   ]
  },
  {
   "cell_type": "markdown",
   "id": "38f920f7",
   "metadata": {},
   "source": [
    "- n : name\n",
    "- y : yes"
   ]
  },
  {
   "cell_type": "code",
   "execution_count": 1,
   "id": "9c763eb0",
   "metadata": {},
   "outputs": [
    {
     "name": "stdout",
     "output_type": "stream",
     "text": [
      "Collecting package metadata (current_repodata.json): done\n",
      "Solving environment: done\n",
      "\n",
      "## Package Plan ##\n",
      "\n",
      "  environment location: /opt/anaconda3/envs/yuna\n",
      "\n",
      "\n",
      "\n",
      "Preparing transaction: done\n",
      "Verifying transaction: done\n",
      "Executing transaction: done\n",
      "#\n",
      "# To activate this environment, use\n",
      "#\n",
      "#     $ conda activate yuna\n",
      "#\n",
      "# To deactivate an active environment, use\n",
      "#\n",
      "#     $ conda deactivate\n",
      "\n"
     ]
    }
   ],
   "source": [
    "!conda create -y -n yuna"
   ]
  },
  {
   "cell_type": "code",
   "execution_count": 3,
   "id": "dd58d132",
   "metadata": {},
   "outputs": [
    {
     "name": "stdout",
     "output_type": "stream",
     "text": [
      "\r\n",
      "CommandNotFoundError: Your shell has not been properly configured to use 'conda activate'.\r\n",
      "To initialize your shell, run\r\n",
      "\r\n",
      "    $ conda init <SHELL_NAME>\r\n",
      "\r\n",
      "Currently supported shells are:\r\n",
      "  - bash\r\n",
      "  - fish\r\n",
      "  - tcsh\r\n",
      "  - xonsh\r\n",
      "  - zsh\r\n",
      "  - powershell\r\n",
      "\r\n",
      "See 'conda init --help' for more information and options.\r\n",
      "\r\n",
      "IMPORTANT: You may need to close and restart your shell after running 'conda init'.\r\n",
      "\r\n",
      "\r\n"
     ]
    }
   ],
   "source": [
    "!conda activate yuna"
   ]
  },
  {
   "cell_type": "code",
   "execution_count": 5,
   "id": "9ce868d7",
   "metadata": {},
   "outputs": [
    {
     "name": "stdout",
     "output_type": "stream",
     "text": [
      "no change     /opt/anaconda3/condabin/conda\r\n",
      "no change     /opt/anaconda3/bin/conda\r\n",
      "no change     /opt/anaconda3/bin/conda-env\r\n",
      "no change     /opt/anaconda3/bin/activate\r\n",
      "no change     /opt/anaconda3/bin/deactivate\r\n",
      "no change     /opt/anaconda3/etc/profile.d/conda.sh\r\n",
      "no change     /opt/anaconda3/etc/fish/conf.d/conda.fish\r\n",
      "no change     /opt/anaconda3/shell/condabin/Conda.psm1\r\n",
      "no change     /opt/anaconda3/shell/condabin/conda-hook.ps1\r\n",
      "no change     /opt/anaconda3/lib/python3.9/site-packages/xontrib/conda.xsh\r\n",
      "no change     /opt/anaconda3/etc/profile.d/conda.csh\r\n",
      "no change     /Users/reasonmii/.zshrc\r\n",
      "No action taken.\r\n"
     ]
    }
   ],
   "source": [
    "!conda init zsh"
   ]
  },
  {
   "cell_type": "code",
   "execution_count": 6,
   "id": "af8397c9",
   "metadata": {},
   "outputs": [
    {
     "name": "stdout",
     "output_type": "stream",
     "text": [
      "\r\n",
      "CommandNotFoundError: Your shell has not been properly configured to use 'conda activate'.\r\n",
      "To initialize your shell, run\r\n",
      "\r\n",
      "    $ conda init <SHELL_NAME>\r\n",
      "\r\n",
      "Currently supported shells are:\r\n",
      "  - bash\r\n",
      "  - fish\r\n",
      "  - tcsh\r\n",
      "  - xonsh\r\n",
      "  - zsh\r\n",
      "  - powershell\r\n",
      "\r\n",
      "See 'conda init --help' for more information and options.\r\n",
      "\r\n",
      "IMPORTANT: You may need to close and restart your shell after running 'conda init'.\r\n",
      "\r\n",
      "\r\n"
     ]
    }
   ],
   "source": [
    "!conda activate yuna2"
   ]
  },
  {
   "cell_type": "code",
   "execution_count": null,
   "id": "e8790630",
   "metadata": {},
   "outputs": [],
   "source": []
  },
  {
   "cell_type": "code",
   "execution_count": null,
   "id": "7f1667dc",
   "metadata": {},
   "outputs": [],
   "source": []
  },
  {
   "cell_type": "code",
   "execution_count": null,
   "id": "9c8a7c8e",
   "metadata": {},
   "outputs": [],
   "source": []
  }
 ],
 "metadata": {
  "kernelspec": {
   "display_name": "Python 3 (ipykernel)",
   "language": "python",
   "name": "python3"
  },
  "language_info": {
   "codemirror_mode": {
    "name": "ipython",
    "version": 3
   },
   "file_extension": ".py",
   "mimetype": "text/x-python",
   "name": "python",
   "nbconvert_exporter": "python",
   "pygments_lexer": "ipython3",
   "version": "3.9.7"
  }
 },
 "nbformat": 4,
 "nbformat_minor": 5
}
